{
 "cells": [
  {
   "cell_type": "code",
   "execution_count": 1,
   "id": "e0430fe8-cd49-4f45-bb2c-6d70ffc058c5",
   "metadata": {},
   "outputs": [
    {
     "name": "stdout",
     "output_type": "stream",
     "text": [
      "Collecting theano\n",
      "  Downloading Theano-1.0.5.tar.gz (2.8 MB)\n",
      "\u001b[2K     \u001b[90m━━━━━━━━━━━━━━━━━━━━━━━━━━━━━━━━━━━━━━━━\u001b[0m \u001b[32m2.8/2.8 MB\u001b[0m \u001b[31m3.8 MB/s\u001b[0m eta \u001b[36m0:00:00\u001b[0m00:01\u001b[0m00:01\u001b[0m\n",
      "\u001b[?25h  Preparing metadata (setup.py) ... \u001b[?25ldone\n",
      "\u001b[?25hRequirement already satisfied: numpy>=1.9.1 in /Users/diego/opt/anaconda3/lib/python3.8/site-packages (from theano) (1.20.1)\n",
      "Requirement already satisfied: scipy>=0.14 in /Users/diego/opt/anaconda3/lib/python3.8/site-packages (from theano) (1.6.2)\n",
      "Requirement already satisfied: six>=1.9.0 in /Users/diego/opt/anaconda3/lib/python3.8/site-packages (from theano) (1.15.0)\n",
      "Building wheels for collected packages: theano\n",
      "  Building wheel for theano (setup.py) ... \u001b[?25ldone\n",
      "\u001b[?25h  Created wheel for theano: filename=Theano-1.0.5-py3-none-any.whl size=2668094 sha256=1b5f0ec61cb171e0fc9ff149dee78daec7f69e4d30793add9d3b64cfa49b2883\n",
      "  Stored in directory: /Users/diego/Library/Caches/pip/wheels/84/cb/19/235b5b10d89b4621f685112f8762681570a9fa14dc1ce904d9\n",
      "Successfully built theano\n",
      "Installing collected packages: theano\n",
      "Successfully installed theano-1.0.5\n",
      "\u001b[33mWARNING: You are using pip version 22.0.3; however, version 22.0.4 is available.\n",
      "You should consider upgrading via the '/Users/diego/opt/anaconda3/bin/python -m pip install --upgrade pip' command.\u001b[0m\u001b[33m\n",
      "\u001b[0mNote: you may need to restart the kernel to use updated packages.\n"
     ]
    }
   ],
   "source": [
    "pip install --upgrade theano"
   ]
  },
  {
   "cell_type": "code",
   "execution_count": 70,
   "id": "317373fa-cf61-49a7-83d0-90d53011f98f",
   "metadata": {},
   "outputs": [],
   "source": [
    "import numpy as np\n",
    "import matplotlib.pyplot as plt\n",
    "import pandas as pd\n",
    "from sklearn.preprocessing import LabelEncoder, OneHotEncoder\n",
    "from sklearn.model_selection import train_test_split\n",
    "from sklearn.preprocessing import StandardScaler \n",
    "import keras \n",
    "from keras.models import Sequential \n",
    "from keras.layers import Dense\n",
    "from sklearn.metrics import confusion_matrix\n",
    "import seaborn as sns"
   ]
  },
  {
   "cell_type": "code",
   "execution_count": 52,
   "id": "a8094387-4863-47d9-a955-5019732e03ab",
   "metadata": {},
   "outputs": [
    {
     "data": {
      "text/html": [
       "<div>\n",
       "<style scoped>\n",
       "    .dataframe tbody tr th:only-of-type {\n",
       "        vertical-align: middle;\n",
       "    }\n",
       "\n",
       "    .dataframe tbody tr th {\n",
       "        vertical-align: top;\n",
       "    }\n",
       "\n",
       "    .dataframe thead th {\n",
       "        text-align: right;\n",
       "    }\n",
       "</style>\n",
       "<table border=\"1\" class=\"dataframe\">\n",
       "  <thead>\n",
       "    <tr style=\"text-align: right;\">\n",
       "      <th></th>\n",
       "      <th>RowNumber</th>\n",
       "      <th>CustomerId</th>\n",
       "      <th>Surname</th>\n",
       "      <th>CreditScore</th>\n",
       "      <th>Geography</th>\n",
       "      <th>Gender</th>\n",
       "      <th>Age</th>\n",
       "      <th>Tenure</th>\n",
       "      <th>Balance</th>\n",
       "      <th>NumOfProducts</th>\n",
       "      <th>HasCrCard</th>\n",
       "      <th>IsActiveMember</th>\n",
       "      <th>EstimatedSalary</th>\n",
       "      <th>Exited</th>\n",
       "    </tr>\n",
       "  </thead>\n",
       "  <tbody>\n",
       "    <tr>\n",
       "      <th>0</th>\n",
       "      <td>1</td>\n",
       "      <td>15634602</td>\n",
       "      <td>Hargrave</td>\n",
       "      <td>619</td>\n",
       "      <td>France</td>\n",
       "      <td>Female</td>\n",
       "      <td>42</td>\n",
       "      <td>2</td>\n",
       "      <td>0.00</td>\n",
       "      <td>1</td>\n",
       "      <td>1</td>\n",
       "      <td>1</td>\n",
       "      <td>101348.88</td>\n",
       "      <td>1</td>\n",
       "    </tr>\n",
       "    <tr>\n",
       "      <th>1</th>\n",
       "      <td>2</td>\n",
       "      <td>15647311</td>\n",
       "      <td>Hill</td>\n",
       "      <td>608</td>\n",
       "      <td>Spain</td>\n",
       "      <td>Female</td>\n",
       "      <td>41</td>\n",
       "      <td>1</td>\n",
       "      <td>83807.86</td>\n",
       "      <td>1</td>\n",
       "      <td>0</td>\n",
       "      <td>1</td>\n",
       "      <td>112542.58</td>\n",
       "      <td>0</td>\n",
       "    </tr>\n",
       "    <tr>\n",
       "      <th>2</th>\n",
       "      <td>3</td>\n",
       "      <td>15619304</td>\n",
       "      <td>Onio</td>\n",
       "      <td>502</td>\n",
       "      <td>France</td>\n",
       "      <td>Female</td>\n",
       "      <td>42</td>\n",
       "      <td>8</td>\n",
       "      <td>159660.80</td>\n",
       "      <td>3</td>\n",
       "      <td>1</td>\n",
       "      <td>0</td>\n",
       "      <td>113931.57</td>\n",
       "      <td>1</td>\n",
       "    </tr>\n",
       "    <tr>\n",
       "      <th>3</th>\n",
       "      <td>4</td>\n",
       "      <td>15701354</td>\n",
       "      <td>Boni</td>\n",
       "      <td>699</td>\n",
       "      <td>France</td>\n",
       "      <td>Female</td>\n",
       "      <td>39</td>\n",
       "      <td>1</td>\n",
       "      <td>0.00</td>\n",
       "      <td>2</td>\n",
       "      <td>0</td>\n",
       "      <td>0</td>\n",
       "      <td>93826.63</td>\n",
       "      <td>0</td>\n",
       "    </tr>\n",
       "    <tr>\n",
       "      <th>4</th>\n",
       "      <td>5</td>\n",
       "      <td>15737888</td>\n",
       "      <td>Mitchell</td>\n",
       "      <td>850</td>\n",
       "      <td>Spain</td>\n",
       "      <td>Female</td>\n",
       "      <td>43</td>\n",
       "      <td>2</td>\n",
       "      <td>125510.82</td>\n",
       "      <td>1</td>\n",
       "      <td>1</td>\n",
       "      <td>1</td>\n",
       "      <td>79084.10</td>\n",
       "      <td>0</td>\n",
       "    </tr>\n",
       "    <tr>\n",
       "      <th>...</th>\n",
       "      <td>...</td>\n",
       "      <td>...</td>\n",
       "      <td>...</td>\n",
       "      <td>...</td>\n",
       "      <td>...</td>\n",
       "      <td>...</td>\n",
       "      <td>...</td>\n",
       "      <td>...</td>\n",
       "      <td>...</td>\n",
       "      <td>...</td>\n",
       "      <td>...</td>\n",
       "      <td>...</td>\n",
       "      <td>...</td>\n",
       "      <td>...</td>\n",
       "    </tr>\n",
       "    <tr>\n",
       "      <th>9995</th>\n",
       "      <td>9996</td>\n",
       "      <td>15606229</td>\n",
       "      <td>Obijiaku</td>\n",
       "      <td>771</td>\n",
       "      <td>France</td>\n",
       "      <td>Male</td>\n",
       "      <td>39</td>\n",
       "      <td>5</td>\n",
       "      <td>0.00</td>\n",
       "      <td>2</td>\n",
       "      <td>1</td>\n",
       "      <td>0</td>\n",
       "      <td>96270.64</td>\n",
       "      <td>0</td>\n",
       "    </tr>\n",
       "    <tr>\n",
       "      <th>9996</th>\n",
       "      <td>9997</td>\n",
       "      <td>15569892</td>\n",
       "      <td>Johnstone</td>\n",
       "      <td>516</td>\n",
       "      <td>France</td>\n",
       "      <td>Male</td>\n",
       "      <td>35</td>\n",
       "      <td>10</td>\n",
       "      <td>57369.61</td>\n",
       "      <td>1</td>\n",
       "      <td>1</td>\n",
       "      <td>1</td>\n",
       "      <td>101699.77</td>\n",
       "      <td>0</td>\n",
       "    </tr>\n",
       "    <tr>\n",
       "      <th>9997</th>\n",
       "      <td>9998</td>\n",
       "      <td>15584532</td>\n",
       "      <td>Liu</td>\n",
       "      <td>709</td>\n",
       "      <td>France</td>\n",
       "      <td>Female</td>\n",
       "      <td>36</td>\n",
       "      <td>7</td>\n",
       "      <td>0.00</td>\n",
       "      <td>1</td>\n",
       "      <td>0</td>\n",
       "      <td>1</td>\n",
       "      <td>42085.58</td>\n",
       "      <td>1</td>\n",
       "    </tr>\n",
       "    <tr>\n",
       "      <th>9998</th>\n",
       "      <td>9999</td>\n",
       "      <td>15682355</td>\n",
       "      <td>Sabbatini</td>\n",
       "      <td>772</td>\n",
       "      <td>Germany</td>\n",
       "      <td>Male</td>\n",
       "      <td>42</td>\n",
       "      <td>3</td>\n",
       "      <td>75075.31</td>\n",
       "      <td>2</td>\n",
       "      <td>1</td>\n",
       "      <td>0</td>\n",
       "      <td>92888.52</td>\n",
       "      <td>1</td>\n",
       "    </tr>\n",
       "    <tr>\n",
       "      <th>9999</th>\n",
       "      <td>10000</td>\n",
       "      <td>15628319</td>\n",
       "      <td>Walker</td>\n",
       "      <td>792</td>\n",
       "      <td>France</td>\n",
       "      <td>Female</td>\n",
       "      <td>28</td>\n",
       "      <td>4</td>\n",
       "      <td>130142.79</td>\n",
       "      <td>1</td>\n",
       "      <td>1</td>\n",
       "      <td>0</td>\n",
       "      <td>38190.78</td>\n",
       "      <td>0</td>\n",
       "    </tr>\n",
       "  </tbody>\n",
       "</table>\n",
       "<p>10000 rows × 14 columns</p>\n",
       "</div>"
      ],
      "text/plain": [
       "      RowNumber  CustomerId    Surname  CreditScore Geography  Gender  Age  \\\n",
       "0             1    15634602   Hargrave          619    France  Female   42   \n",
       "1             2    15647311       Hill          608     Spain  Female   41   \n",
       "2             3    15619304       Onio          502    France  Female   42   \n",
       "3             4    15701354       Boni          699    France  Female   39   \n",
       "4             5    15737888   Mitchell          850     Spain  Female   43   \n",
       "...         ...         ...        ...          ...       ...     ...  ...   \n",
       "9995       9996    15606229   Obijiaku          771    France    Male   39   \n",
       "9996       9997    15569892  Johnstone          516    France    Male   35   \n",
       "9997       9998    15584532        Liu          709    France  Female   36   \n",
       "9998       9999    15682355  Sabbatini          772   Germany    Male   42   \n",
       "9999      10000    15628319     Walker          792    France  Female   28   \n",
       "\n",
       "      Tenure    Balance  NumOfProducts  HasCrCard  IsActiveMember  \\\n",
       "0          2       0.00              1          1               1   \n",
       "1          1   83807.86              1          0               1   \n",
       "2          8  159660.80              3          1               0   \n",
       "3          1       0.00              2          0               0   \n",
       "4          2  125510.82              1          1               1   \n",
       "...      ...        ...            ...        ...             ...   \n",
       "9995       5       0.00              2          1               0   \n",
       "9996      10   57369.61              1          1               1   \n",
       "9997       7       0.00              1          0               1   \n",
       "9998       3   75075.31              2          1               0   \n",
       "9999       4  130142.79              1          1               0   \n",
       "\n",
       "      EstimatedSalary  Exited  \n",
       "0           101348.88       1  \n",
       "1           112542.58       0  \n",
       "2           113931.57       1  \n",
       "3            93826.63       0  \n",
       "4            79084.10       0  \n",
       "...               ...     ...  \n",
       "9995         96270.64       0  \n",
       "9996        101699.77       0  \n",
       "9997         42085.58       1  \n",
       "9998         92888.52       1  \n",
       "9999         38190.78       0  \n",
       "\n",
       "[10000 rows x 14 columns]"
      ]
     },
     "execution_count": 52,
     "metadata": {},
     "output_type": "execute_result"
    }
   ],
   "source": [
    "dataset = pd.read_csv('Churn_Modelling.csv')\n",
    "dataset"
   ]
  },
  {
   "cell_type": "code",
   "execution_count": 53,
   "id": "a80a46c0-3ef9-410a-9b09-10529c29e376",
   "metadata": {},
   "outputs": [
    {
     "data": {
      "text/plain": [
       "array([[619, 'France', 'Female', ..., 1, 1, 101348.88],\n",
       "       [608, 'Spain', 'Female', ..., 0, 1, 112542.58],\n",
       "       [502, 'France', 'Female', ..., 1, 0, 113931.57],\n",
       "       ...,\n",
       "       [709, 'France', 'Female', ..., 0, 1, 42085.58],\n",
       "       [772, 'Germany', 'Male', ..., 1, 0, 92888.52],\n",
       "       [792, 'France', 'Female', ..., 1, 0, 38190.78]], dtype=object)"
      ]
     },
     "execution_count": 53,
     "metadata": {},
     "output_type": "execute_result"
    }
   ],
   "source": [
    "X = dataset.iloc[:, 3:13].values\n",
    "Y = dataset.iloc[:, 13].values\n",
    "X"
   ]
  },
  {
   "cell_type": "code",
   "execution_count": 54,
   "id": "ab27430c-4407-43f1-afbb-74dcd16cd9eb",
   "metadata": {},
   "outputs": [
    {
     "data": {
      "text/plain": [
       "(10000, 10)"
      ]
     },
     "execution_count": 54,
     "metadata": {},
     "output_type": "execute_result"
    }
   ],
   "source": [
    "X.shape"
   ]
  },
  {
   "cell_type": "markdown",
   "id": "3b7f6bbf-3610-4d9d-9777-9b63d8b41cd2",
   "metadata": {},
   "source": [
    "# Encoding\n",
    "# Tenemos dos variables string, por lo tanto debemos convertirlas en array numericos "
   ]
  },
  {
   "cell_type": "code",
   "execution_count": 55,
   "id": "fbfb530c-96e6-41e2-b147-74fb57b4b893",
   "metadata": {},
   "outputs": [
    {
     "data": {
      "text/plain": [
       "(array(['France', 'Germany', 'Spain'], dtype=object),\n",
       " array(['Female', 'Male'], dtype=object))"
      ]
     },
     "execution_count": 55,
     "metadata": {},
     "output_type": "execute_result"
    }
   ],
   "source": [
    "np.unique(X[:,1]), np.unique(X[:,2])"
   ]
  },
  {
   "cell_type": "code",
   "execution_count": 56,
   "id": "dd4555e8-4035-476b-943d-be4b907571a1",
   "metadata": {},
   "outputs": [
    {
     "data": {
      "text/plain": [
       "(array([0, 1, 2], dtype=object), array([0, 1], dtype=object))"
      ]
     },
     "execution_count": 56,
     "metadata": {},
     "output_type": "execute_result"
    }
   ],
   "source": [
    "labelencoder_X_1 = LabelEncoder()\n",
    "labelencoder_X_2 = LabelEncoder()\n",
    "X[:,1] = labelencoder_X_1.fit_transform(X[:,1])\n",
    "X[:,2] = labelencoder_X_1.fit_transform(X[:,2])\n",
    "np.unique(X[:,1]), np.unique(X[:,2]) \n"
   ]
  },
  {
   "cell_type": "code",
   "execution_count": 57,
   "id": "7f4d9365-b6bf-41b1-b667-0885453f8977",
   "metadata": {},
   "outputs": [
    {
     "data": {
      "text/plain": [
       "(10000, 10)"
      ]
     },
     "execution_count": 57,
     "metadata": {},
     "output_type": "execute_result"
    }
   ],
   "source": [
    "X.shape"
   ]
  },
  {
   "cell_type": "code",
   "execution_count": 58,
   "id": "8e891990-d5f9-4897-94ee-127f9b08a171",
   "metadata": {},
   "outputs": [],
   "source": [
    "onehotencoder = OneHotEncoder(categories='auto')\n",
    "encoded = onehotencoder.fit_transform(X[:,1:3]).toarray()\n",
    "X = np.concatenate((X,encoded), axis=1)"
   ]
  },
  {
   "cell_type": "code",
   "execution_count": 59,
   "id": "6ec6cda4-68e9-4158-a45b-ee2f71e20902",
   "metadata": {},
   "outputs": [
    {
     "data": {
      "text/plain": [
       "array([[619, 42, 2, ..., 0.0, 1.0, 0.0],\n",
       "       [608, 41, 1, ..., 1.0, 1.0, 0.0],\n",
       "       [502, 42, 8, ..., 0.0, 1.0, 0.0],\n",
       "       ...,\n",
       "       [709, 36, 7, ..., 0.0, 1.0, 0.0],\n",
       "       [772, 42, 3, ..., 0.0, 0.0, 1.0],\n",
       "       [792, 28, 4, ..., 0.0, 1.0, 0.0]], dtype=object)"
      ]
     },
     "execution_count": 59,
     "metadata": {},
     "output_type": "execute_result"
    }
   ],
   "source": [
    "X_final = X[:,[0,3,4,5,6,7,8,9,10,11,12,13,14]]\n",
    "X_final"
   ]
  },
  {
   "cell_type": "code",
   "execution_count": 60,
   "id": "8862546b-6479-4b17-b4c2-5e07c0e3cc3d",
   "metadata": {},
   "outputs": [
    {
     "data": {
      "text/plain": [
       "(8000, 13)"
      ]
     },
     "execution_count": 60,
     "metadata": {},
     "output_type": "execute_result"
    }
   ],
   "source": [
    "X_train, X_test, y_train, y_test = train_test_split(X_final, Y, test_size = 0.2)\n",
    "X_train.shape"
   ]
  },
  {
   "cell_type": "markdown",
   "id": "71f48674-42ab-4b66-b006-9809d5f01a38",
   "metadata": {},
   "source": [
    "# Feature Scaling"
   ]
  },
  {
   "cell_type": "code",
   "execution_count": 61,
   "id": "1e9001d0-9e16-45ff-bec2-20952bf93890",
   "metadata": {},
   "outputs": [
    {
     "data": {
      "text/plain": [
       "(0.9999999999999991,\n",
       " 1.0979251695831548e-15,\n",
       " 0.9999999999999981,\n",
       " 4.0336964537765685e-16)"
      ]
     },
     "execution_count": 61,
     "metadata": {},
     "output_type": "execute_result"
    }
   ],
   "source": [
    "sc = StandardScaler()\n",
    "X_train = sc.fit_transform(X_train)\n",
    "X_test = sc.fit_transform(X_test)\n",
    "X_train.std(), X_train.mean(),X_test.std(), X_test.mean()"
   ]
  },
  {
   "cell_type": "markdown",
   "id": "69c6ce69-63dc-4cc4-980c-b78fd1970efe",
   "metadata": {},
   "source": [
    "# Initializing Neural Network"
   ]
  },
  {
   "cell_type": "code",
   "execution_count": 62,
   "id": "f544b967-b012-4ed3-b9d8-b546ed9b57a3",
   "metadata": {},
   "outputs": [],
   "source": [
    "classifier = Sequential()"
   ]
  },
  {
   "cell_type": "code",
   "execution_count": 63,
   "id": "09289222-31de-4dd1-837a-2d1f0a2030f7",
   "metadata": {},
   "outputs": [],
   "source": [
    "classifier.add(Dense(units = 6, kernel_initializer = 'uniform',activation = 'relu', input_shape = (None,8000,13)))\n",
    "classifier.add(Dense(units = 6, kernel_initializer = 'uniform', activation = 'relu' ))\n",
    "classifier.add(Dense(units = 1, kernel_initializer = 'uniform',activation = 'sigmoid'))"
   ]
  },
  {
   "cell_type": "code",
   "execution_count": 64,
   "id": "296b001f-d32a-4541-9808-d52f17a4e2d9",
   "metadata": {},
   "outputs": [],
   "source": [
    "classifier.compile(optimizer='adam', loss='binary_crossentropy',metrics=['accuracy'])\n"
   ]
  },
  {
   "cell_type": "code",
   "execution_count": 65,
   "id": "931d65db-142a-4b90-9137-0aa4803f9d97",
   "metadata": {},
   "outputs": [
    {
     "name": "stdout",
     "output_type": "stream",
     "text": [
      "Epoch 1/50\n",
      "WARNING:tensorflow:Model was constructed with shape (None, None, 8000, 13) for input KerasTensor(type_spec=TensorSpec(shape=(None, None, 8000, 13), dtype=tf.float32, name='dense_3_input'), name='dense_3_input', description=\"created by layer 'dense_3_input'\"), but it was called on an input with incompatible shape (10, 13).\n",
      "WARNING:tensorflow:Model was constructed with shape (None, None, 8000, 13) for input KerasTensor(type_spec=TensorSpec(shape=(None, None, 8000, 13), dtype=tf.float32, name='dense_3_input'), name='dense_3_input', description=\"created by layer 'dense_3_input'\"), but it was called on an input with incompatible shape (10, 13).\n",
      "800/800 [==============================] - 1s 998us/step - loss: 0.4926 - accuracy: 0.7991\n",
      "Epoch 2/50\n",
      "800/800 [==============================] - 1s 965us/step - loss: 0.4295 - accuracy: 0.7991\n",
      "Epoch 3/50\n",
      "800/800 [==============================] - 1s 989us/step - loss: 0.4262 - accuracy: 0.7991\n",
      "Epoch 4/50\n",
      "800/800 [==============================] - 1s 967us/step - loss: 0.4232 - accuracy: 0.7991\n",
      "Epoch 5/50\n",
      "800/800 [==============================] - 1s 1ms/step - loss: 0.4195 - accuracy: 0.8156\n",
      "Epoch 6/50\n",
      "800/800 [==============================] - 1s 917us/step - loss: 0.4167 - accuracy: 0.8246\n",
      "Epoch 7/50\n",
      "800/800 [==============================] - 1s 982us/step - loss: 0.4140 - accuracy: 0.8270\n",
      "Epoch 8/50\n",
      "800/800 [==============================] - 1s 905us/step - loss: 0.4124 - accuracy: 0.8270\n",
      "Epoch 9/50\n",
      "800/800 [==============================] - 1s 910us/step - loss: 0.4110 - accuracy: 0.8305\n",
      "Epoch 10/50\n",
      "800/800 [==============================] - 1s 891us/step - loss: 0.4093 - accuracy: 0.8321\n",
      "Epoch 11/50\n",
      "800/800 [==============================] - 1s 985us/step - loss: 0.4084 - accuracy: 0.8321\n",
      "Epoch 12/50\n",
      "800/800 [==============================] - 1s 1ms/step - loss: 0.4081 - accuracy: 0.8344\n",
      "Epoch 13/50\n",
      "800/800 [==============================] - 1s 980us/step - loss: 0.4069 - accuracy: 0.8349\n",
      "Epoch 14/50\n",
      "800/800 [==============================] - 1s 940us/step - loss: 0.4062 - accuracy: 0.8346\n",
      "Epoch 15/50\n",
      "800/800 [==============================] - 1s 968us/step - loss: 0.4059 - accuracy: 0.8349\n",
      "Epoch 16/50\n",
      "800/800 [==============================] - 1s 993us/step - loss: 0.4050 - accuracy: 0.8336\n",
      "Epoch 17/50\n",
      "800/800 [==============================] - 1s 1ms/step - loss: 0.4048 - accuracy: 0.8342\n",
      "Epoch 18/50\n",
      "800/800 [==============================] - 1s 1ms/step - loss: 0.4046 - accuracy: 0.8347\n",
      "Epoch 19/50\n",
      "800/800 [==============================] - 1s 1ms/step - loss: 0.4039 - accuracy: 0.8350\n",
      "Epoch 20/50\n",
      "800/800 [==============================] - 1s 1ms/step - loss: 0.4035 - accuracy: 0.8353\n",
      "Epoch 21/50\n",
      "800/800 [==============================] - 1s 1ms/step - loss: 0.4034 - accuracy: 0.8363\n",
      "Epoch 22/50\n",
      "800/800 [==============================] - 1s 1ms/step - loss: 0.4032 - accuracy: 0.8353\n",
      "Epoch 23/50\n",
      "800/800 [==============================] - 1s 1ms/step - loss: 0.4031 - accuracy: 0.8360: 0s - loss: 0.4070 - accura\n",
      "Epoch 24/50\n",
      "800/800 [==============================] - 1s 1ms/step - loss: 0.4023 - accuracy: 0.8370\n",
      "Epoch 25/50\n",
      "800/800 [==============================] - 1s 1ms/step - loss: 0.4023 - accuracy: 0.8346\n",
      "Epoch 26/50\n",
      "800/800 [==============================] - 1s 1ms/step - loss: 0.4015 - accuracy: 0.8356\n",
      "Epoch 27/50\n",
      "800/800 [==============================] - 1s 1ms/step - loss: 0.4016 - accuracy: 0.8378\n",
      "Epoch 28/50\n",
      "800/800 [==============================] - 1s 1ms/step - loss: 0.4012 - accuracy: 0.8357\n",
      "Epoch 29/50\n",
      "800/800 [==============================] - 1s 1ms/step - loss: 0.4013 - accuracy: 0.8356\n",
      "Epoch 30/50\n",
      "800/800 [==============================] - 1s 1ms/step - loss: 0.4011 - accuracy: 0.8360\n",
      "Epoch 31/50\n",
      "800/800 [==============================] - 1s 1ms/step - loss: 0.4007 - accuracy: 0.8359\n",
      "Epoch 32/50\n",
      "800/800 [==============================] - 1s 1ms/step - loss: 0.4009 - accuracy: 0.8364\n",
      "Epoch 33/50\n",
      "800/800 [==============================] - 1s 1ms/step - loss: 0.4005 - accuracy: 0.8356\n",
      "Epoch 34/50\n",
      "800/800 [==============================] - 1s 1ms/step - loss: 0.4007 - accuracy: 0.8351\n",
      "Epoch 35/50\n",
      "800/800 [==============================] - 1s 1ms/step - loss: 0.4002 - accuracy: 0.8359\n",
      "Epoch 36/50\n",
      "800/800 [==============================] - 1s 1ms/step - loss: 0.4003 - accuracy: 0.8345\n",
      "Epoch 37/50\n",
      "800/800 [==============================] - 1s 1ms/step - loss: 0.3999 - accuracy: 0.8360\n",
      "Epoch 38/50\n",
      "800/800 [==============================] - 1s 1ms/step - loss: 0.4001 - accuracy: 0.8360\n",
      "Epoch 39/50\n",
      "800/800 [==============================] - 1s 1ms/step - loss: 0.4001 - accuracy: 0.8356\n",
      "Epoch 40/50\n",
      "800/800 [==============================] - 1s 1ms/step - loss: 0.3999 - accuracy: 0.8360\n",
      "Epoch 41/50\n",
      "800/800 [==============================] - 1s 1ms/step - loss: 0.3996 - accuracy: 0.8355\n",
      "Epoch 42/50\n",
      "800/800 [==============================] - 1s 1ms/step - loss: 0.3999 - accuracy: 0.8355\n",
      "Epoch 43/50\n",
      "800/800 [==============================] - 1s 1ms/step - loss: 0.3996 - accuracy: 0.8359\n",
      "Epoch 44/50\n",
      "800/800 [==============================] - 1s 1ms/step - loss: 0.3991 - accuracy: 0.8360\n",
      "Epoch 45/50\n",
      "800/800 [==============================] - 1s 1ms/step - loss: 0.3994 - accuracy: 0.8359\n",
      "Epoch 46/50\n",
      "800/800 [==============================] - 1s 1ms/step - loss: 0.3989 - accuracy: 0.8350\n",
      "Epoch 47/50\n",
      "800/800 [==============================] - 1s 1ms/step - loss: 0.3995 - accuracy: 0.8365\n",
      "Epoch 48/50\n",
      "800/800 [==============================] - 1s 1ms/step - loss: 0.3990 - accuracy: 0.8365\n",
      "Epoch 49/50\n",
      "800/800 [==============================] - 1s 1ms/step - loss: 0.3995 - accuracy: 0.8347\n",
      "Epoch 50/50\n",
      "800/800 [==============================] - 1s 1ms/step - loss: 0.3990 - accuracy: 0.8365\n"
     ]
    },
    {
     "data": {
      "text/plain": [
       "<keras.callbacks.History at 0x7f829d868c10>"
      ]
     },
     "execution_count": 65,
     "metadata": {},
     "output_type": "execute_result"
    }
   ],
   "source": [
    "classifier.fit(X_train, y_train,batch_size=10,epochs=50)"
   ]
  },
  {
   "cell_type": "markdown",
   "id": "b54ab496-e22e-4b73-9263-353fa6b234db",
   "metadata": {},
   "source": [
    "# Making predictions"
   ]
  },
  {
   "cell_type": "code",
   "execution_count": 66,
   "id": "ef8d4914-b5c6-4e8f-9653-efb035a353ac",
   "metadata": {},
   "outputs": [
    {
     "name": "stdout",
     "output_type": "stream",
     "text": [
      "WARNING:tensorflow:Model was constructed with shape (None, None, 8000, 13) for input KerasTensor(type_spec=TensorSpec(shape=(None, None, 8000, 13), dtype=tf.float32, name='dense_3_input'), name='dense_3_input', description=\"created by layer 'dense_3_input'\"), but it was called on an input with incompatible shape (None, 13).\n"
     ]
    },
    {
     "data": {
      "text/plain": [
       "array([[ True],\n",
       "       [False],\n",
       "       [False],\n",
       "       ...,\n",
       "       [False],\n",
       "       [False],\n",
       "       [ True]])"
      ]
     },
     "execution_count": 66,
     "metadata": {},
     "output_type": "execute_result"
    }
   ],
   "source": [
    "y_pred = classifier.predict(X_test)\n",
    "y_pred = (y_pred > 0.5)\n",
    "y_pred"
   ]
  },
  {
   "cell_type": "code",
   "execution_count": 67,
   "id": "24e1915d-5310-419d-8136-750e365f0db9",
   "metadata": {},
   "outputs": [
    {
     "data": {
      "text/plain": [
       "array([1062920, 2937080])"
      ]
     },
     "execution_count": 67,
     "metadata": {},
     "output_type": "execute_result"
    }
   ],
   "source": [
    "contraste = (y_pred == y_test)\n",
    "values, counter = np.unique(contraste, return_counts=True)\n",
    "counter"
   ]
  },
  {
   "cell_type": "code",
   "execution_count": 68,
   "id": "2fb0e4ed-e437-473e-af6d-37bd495bffd8",
   "metadata": {},
   "outputs": [
    {
     "data": {
      "text/plain": [
       "73.42699999999999"
      ]
     },
     "execution_count": 68,
     "metadata": {},
     "output_type": "execute_result"
    }
   ],
   "source": [
    "counter[1]/(counter[1]+counter[0])*100"
   ]
  },
  {
   "cell_type": "code",
   "execution_count": 82,
   "id": "40f28a90-5573-4b19-bc1c-bde93eb487f8",
   "metadata": {},
   "outputs": [
    {
     "name": "stdout",
     "output_type": "stream",
     "text": [
      "[[1530   40]\n",
      " [ 292  138]]\n"
     ]
    }
   ],
   "source": [
    "conf_matrix = confusion_matrix(y_test,y_pred)\n",
    "print(conf_matrix)"
   ]
  },
  {
   "cell_type": "code",
   "execution_count": 85,
   "id": "f05637e9-2e37-4b6b-afcb-b31a0ae56c82",
   "metadata": {},
   "outputs": [
    {
     "data": {
      "image/png": "[encoded data removed]",
      "text/plain": [
       "<Figure size 432x288 with 2 Axes>"
      ]
     },
     "metadata": {
      "needs_background": "light"
     },
     "output_type": "display_data"
    }
   ],
   "source": [
    "sns.heatmap(conf_matrix,annot = True);"
   ]
  },
  {
   "cell_type": "code",
   "execution_count": 101,
   "id": "2f39044b-1839-4e0c-a8f7-cec38570818e",
   "metadata": {},
   "outputs": [
    {
     "data": {
      "text/plain": [
       "'The accuracy of the model is: 83.4%'"
      ]
     },
     "execution_count": 101,
     "metadata": {},
     "output_type": "execute_result"
    }
   ],
   "source": [
    "accuracy  = (conf_matrix[1,1]+conf_matrix[0,0])/np.sum(conf_matrix)\n",
    "f'The accuracy of the model is: {round(accuracy*100,2)}%'"
   ]
  },
  {
   "cell_type": "code",
   "execution_count": 100,
   "id": "19686e5f-5762-42b6-84ec-2b586e6f80d1",
   "metadata": {},
   "outputs": [
    {
     "data": {
      "text/plain": [
       "'The accuracy of the model is: 83.39999999999999%'"
      ]
     },
     "execution_count": 100,
     "metadata": {},
     "output_type": "execute_result"
    }
   ],
   "source": []
  },
  {
   "cell_type": "code",
   "execution_count": null,
   "id": "36f94968-d8f9-4525-8e92-00826037714e",
   "metadata": {},
   "outputs": [],
   "source": []
  },
  {
   "cell_type": "code",
   "execution_count": null,
   "id": "05a111d1-ba5a-4ae4-8891-40b1b6ad0dc1",
   "metadata": {},
   "outputs": [],
   "source": []
  }
 ],
 "metadata": {
  "kernelspec": {
   "display_name": "Python 3",
   "language": "python",
   "name": "python3"
  },
  "language_info": {
   "codemirror_mode": {
    "name": "ipython",
    "version": 3
   },
   "file_extension": ".py",
   "mimetype": "text/x-python",
   "name": "python",
   "nbconvert_exporter": "python",
   "pygments_lexer": "ipython3",
   "version": "3.8.8"
  }
 },
 "nbformat": 4,
 "nbformat_minor": 5
}
